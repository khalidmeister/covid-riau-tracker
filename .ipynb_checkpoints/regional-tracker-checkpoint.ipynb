{
 "cells": [
  {
   "cell_type": "code",
   "execution_count": 1,
   "metadata": {},
   "outputs": [],
   "source": [
    "import csv\n",
    "import re\n",
    "import requests\n",
    "from bs4 import BeautifulSoup\n",
    "import pandas as pd\n",
    "from datetime import date"
   ]
  },
  {
   "cell_type": "code",
   "execution_count": 2,
   "metadata": {},
   "outputs": [],
   "source": [
    "r = requests.get('https://covid19.riau.go.id/pantauan_data_kasus')\n",
    "soup = BeautifulSoup(r.content, 'html.parser')"
   ]
  },
  {
   "cell_type": "code",
   "execution_count": 4,
   "metadata": {
    "scrolled": true
   },
   "outputs": [
    {
     "name": "stdout",
     "output_type": "stream",
     "text": [
      "Pekanbaru\n",
      "Isolasi Mandiri 4\n",
      "Isolasi di RS 37\n",
      "Sembuh 119\n",
      "Meninggal 6\n",
      "\n",
      "Dumai\n",
      "Isolasi Mandiri 3\n",
      "Isolasi di RS 2\n",
      "Sembuh 32\n",
      "Meninggal 0\n",
      "\n",
      "Bengkalis\n",
      "Isolasi Mandiri 0\n",
      "Isolasi di RS 1\n",
      "Sembuh 19\n",
      "Meninggal 1\n",
      "\n",
      "Siak\n",
      "Isolasi Mandiri 0\n",
      "Isolasi di RS 29\n",
      "Sembuh 26\n",
      "Meninggal 1\n",
      "\n",
      "Meranti\n",
      "Isolasi Mandiri 1\n",
      "Isolasi di RS 0\n",
      "Sembuh 12\n",
      "Meninggal 0\n",
      "\n",
      "Pelalawan\n",
      "Isolasi Mandiri 0\n",
      "Isolasi di RS 5\n",
      "Sembuh 12\n",
      "Meninggal 0\n",
      "\n",
      "Indragiri Hilir\n",
      "Isolasi Mandiri 0\n",
      "Isolasi di RS 3\n",
      "Sembuh 48\n",
      "Meninggal 2\n",
      "\n",
      "Indragiri Hulu\n",
      "Isolasi Mandiri 0\n",
      "Isolasi di RS 0\n",
      "Sembuh 3\n",
      "Meninggal 1\n",
      "\n",
      "Kuantan Singingi\n",
      "Isolasi Mandiri 0\n",
      "Isolasi di RS 1\n",
      "Sembuh 11\n",
      "Meninggal 0\n",
      "\n",
      "Kampar\n",
      "Isolasi Mandiri 0\n",
      "Isolasi di RS 13\n",
      "Sembuh 17\n",
      "Meninggal 1\n",
      "\n",
      "Rokan Hulu\n",
      "Isolasi Mandiri 1\n",
      "Isolasi di RS 5\n",
      "Sembuh 5\n",
      "Meninggal 0\n",
      "\n",
      "Rokan Hilir\n",
      "Isolasi Mandiri 0\n",
      "Isolasi di RS 4\n",
      "Sembuh 1\n",
      "Meninggal 0\n",
      "\n"
     ]
    }
   ],
   "source": [
    "for kota in soup.tbody.find_all('tr'):\n",
    "    data = kota.find_all('td')\n",
    "    print(data[0].text)\n",
    "    print(\"Isolasi Mandiri\", data[-4].text)\n",
    "    print(\"Isolasi di RS\", data[-3].text)\n",
    "    print(\"Sembuh\", data[-2].text)\n",
    "    print(\"Meninggal\", data[-1].text)\n",
    "    print()"
   ]
  },
  {
   "cell_type": "code",
   "execution_count": 5,
   "metadata": {},
   "outputs": [],
   "source": [
    "with open('regional-dataset.csv', 'a+') as csv_file:\n",
    "    fieldnames = ['tanggal', '(Spesimen) Total Yang Diperiksa', '(Spesimen) Jumlah Orang Yang Diperiksa', \n",
    "                  '(Suspek) Isolasi Mandiri', '(Suspek) Isolasi di RS', '(Suspek) Sembuh', '(Suspek) Meninggal', \n",
    "                  '(Positif) Isolasi Mandiri', '(Positif) Isolasi di RS', '(Positif) Sembuh', '(Positif) Meninggal']\n",
    "    fieldnames = ['tanggal', 'kabupaten/kota', 'odp_proses_pemantauan', 'odp_selesai_pemantauan', 'pdp_masih_dirawat', 'pdp_pulang_sehat', 'pdp_meninggal', 'positif_masih_dirawat', 'positif_pulang_sehat', 'positif_meninggal']\n",
    "    writer = csv.DictWriter(csv_file, fieldnames=fieldnames)\n",
    "    for kota in soup.tbody.find_all('tr'):\n",
    "        temp = {}\n",
    "        c = 1\n",
    "        temp['tanggal'] = date.today()\n",
    "        for data in kota.find_all('td'):\n",
    "            data = data.text\n",
    "            data = re.sub(\"\\.\", \"\", data)\n",
    "            temp[fieldnames[c]] = data\n",
    "            c += 1\n",
    "        writer.writerow(temp)  "
   ]
  },
  {
   "cell_type": "code",
   "execution_count": 8,
   "metadata": {
    "scrolled": true
   },
   "outputs": [
    {
     "data": {
      "text/html": [
       "<div>\n",
       "<style scoped>\n",
       "    .dataframe tbody tr th:only-of-type {\n",
       "        vertical-align: middle;\n",
       "    }\n",
       "\n",
       "    .dataframe tbody tr th {\n",
       "        vertical-align: top;\n",
       "    }\n",
       "\n",
       "    .dataframe thead th {\n",
       "        text-align: right;\n",
       "    }\n",
       "</style>\n",
       "<table border=\"1\" class=\"dataframe\">\n",
       "  <thead>\n",
       "    <tr style=\"text-align: right;\">\n",
       "      <th></th>\n",
       "      <th>Tanggal</th>\n",
       "      <th>Wilayah</th>\n",
       "      <th>(ODP) Sedang Pemantauan</th>\n",
       "      <th>(ODP) Selesai Pemantauan</th>\n",
       "      <th>(PDP) Sedang Dirawat</th>\n",
       "      <th>(PDP) Sembuh</th>\n",
       "      <th>(PDP) Meninggal</th>\n",
       "      <th>(Positif) Sedang Dirawat</th>\n",
       "      <th>(Positif) Sembuh</th>\n",
       "      <th>(Positif) Meninggal</th>\n",
       "    </tr>\n",
       "  </thead>\n",
       "  <tbody>\n",
       "  </tbody>\n",
       "</table>\n",
       "</div>"
      ],
      "text/plain": [
       "Empty DataFrame\n",
       "Columns: [Tanggal, Wilayah, (ODP) Sedang Pemantauan, (ODP) Selesai Pemantauan, (PDP) Sedang Dirawat, (PDP) Sembuh, (PDP) Meninggal, (Positif) Sedang Dirawat, (Positif) Sembuh, (Positif) Meninggal]\n",
       "Index: []"
      ]
     },
     "execution_count": 8,
     "metadata": {},
     "output_type": "execute_result"
    }
   ],
   "source": [
    "df = pd.read_csv('regional-dataset.csv')\n",
    "df.head()"
   ]
  },
  {
   "cell_type": "code",
   "execution_count": 17,
   "metadata": {},
   "outputs": [
    {
     "name": "stdout",
     "output_type": "stream",
     "text": [
      "Pekanbaru,303,6626,82,967,87,37,106,6,\n",
      "Dumai,363,3238,9,160,13,7,28,0,\n",
      "Bengkalis,78,7676,2,160,18,1,19,1,\n",
      "Siak,327,5073,37,108,10,32,11,0,\n",
      "Meranti,735,9516,2,33,1,1,12,0,\n",
      "Pelalawan,33,3675,3,107,13,1,12,0,\n",
      "Indragiri Hilir,340,13119,10,243,10,6,45,2,\n",
      "Indragiri Hulu,1,660,3,35,2,0,3,1,\n",
      "Kuantan Singingi,309,8180,6,53,10,1,11,0,\n",
      "Kampar,170,6732,25,257,34,14,14,1,\n",
      "Rokan Hulu,192,8631,9,61,12,4,5,0,\n",
      "Rokan Hilir,799,11458,4,63,8,1,0,0,\n"
     ]
    }
   ],
   "source": [
    "for kota in soup.tbody.find_all('tr'):\n",
    "    for data in kota.find_all('td'):\n",
    "        data = data.text\n",
    "        data = re.sub(\"\\.\", \"\", data)\n",
    "        print(data, end=\",\")\n",
    "    print()"
   ]
  },
  {
   "cell_type": "code",
   "execution_count": null,
   "metadata": {},
   "outputs": [],
   "source": []
  }
 ],
 "metadata": {
  "kernelspec": {
   "display_name": "Python 3",
   "language": "python",
   "name": "python3"
  },
  "language_info": {
   "codemirror_mode": {
    "name": "ipython",
    "version": 3
   },
   "file_extension": ".py",
   "mimetype": "text/x-python",
   "name": "python",
   "nbconvert_exporter": "python",
   "pygments_lexer": "ipython3",
   "version": "3.7.3"
  }
 },
 "nbformat": 4,
 "nbformat_minor": 2
}

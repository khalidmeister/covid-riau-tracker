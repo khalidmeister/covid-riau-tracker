{
 "cells": [
  {
   "cell_type": "code",
   "execution_count": 1,
   "metadata": {},
   "outputs": [],
   "source": [
    "import requests\n",
    "import re\n",
    "import csv\n",
    "from datetime import date\n",
    "from bs4 import BeautifulSoup\n",
    "import pandas as pd"
   ]
  },
  {
   "cell_type": "code",
   "execution_count": 2,
   "metadata": {},
   "outputs": [],
   "source": [
    "r = requests.get('https://covid19.riau.go.id/webster')\n",
    "soup = BeautifulSoup(r.content, 'html.parser')"
   ]
  },
  {
   "cell_type": "code",
   "execution_count": 26,
   "metadata": {},
   "outputs": [],
   "source": [
    "with open('riau-dataset.csv', 'a+') as csv_file:\n",
    "    fieldnames = ['tanggal', '(Spesimen) Total Yang Diperiksa', '(Spesimen) Jumlah Orang Yang Diperiksa', \n",
    "                  '(Suspek) Isolasi Mandiri', '(Suspek) Isolasi di RS', '(Suspek) Sembuh', '(Suspek) Meninggal', \n",
    "                  '(Suspek) Isolasi Mandiri', '(Positif) Isolasi di RS', '(Positif) Sembuh', '(Positif) Meninggal']\n",
    "    writer = csv.DictWriter(csv_file, fieldnames=fieldnames)\n",
    "    c = 1\n",
    "    temp = {}\n",
    "    writer.writeheader()\n",
    "    for tabel in soup.find_all('table'):\n",
    "        temp['tanggal'] = date.today()\n",
    "        for data in tabel.find_all('td'):\n",
    "            data = data.text\n",
    "            data = re.sub(\"\\.\", \"\", data)\n",
    "            temp[fieldnames[c]] = data\n",
    "            c += 1\n",
    "    writer.writerow(temp)"
   ]
  },
  {
   "cell_type": "code",
   "execution_count": 29,
   "metadata": {},
   "outputs": [
    {
     "data": {
      "text/html": [
       "<div>\n",
       "<style scoped>\n",
       "    .dataframe tbody tr th:only-of-type {\n",
       "        vertical-align: middle;\n",
       "    }\n",
       "\n",
       "    .dataframe tbody tr th {\n",
       "        vertical-align: top;\n",
       "    }\n",
       "\n",
       "    .dataframe thead th {\n",
       "        text-align: right;\n",
       "    }\n",
       "</style>\n",
       "<table border=\"1\" class=\"dataframe\">\n",
       "  <thead>\n",
       "    <tr style=\"text-align: right;\">\n",
       "      <th></th>\n",
       "      <th>tanggal</th>\n",
       "      <th>(ODP) Total</th>\n",
       "      <th>(ODP) Selesai Pemantauan</th>\n",
       "      <th>(PDP) Total</th>\n",
       "      <th>(PDP) Sembuh</th>\n",
       "      <th>(PDP) Meninggal</th>\n",
       "      <th>(Positif) Dirawat</th>\n",
       "      <th>(Positif) Sembuh</th>\n",
       "      <th>(Positif) Meninggal</th>\n",
       "    </tr>\n",
       "  </thead>\n",
       "  <tbody>\n",
       "    <tr>\n",
       "      <th>0</th>\n",
       "      <td>2020-07-28</td>\n",
       "      <td>88234</td>\n",
       "      <td>84584</td>\n",
       "      <td>2657</td>\n",
       "      <td>2247</td>\n",
       "      <td>218</td>\n",
       "      <td>105</td>\n",
       "      <td>266</td>\n",
       "      <td>11</td>\n",
       "    </tr>\n",
       "  </tbody>\n",
       "</table>\n",
       "</div>"
      ],
      "text/plain": [
       "      tanggal  (ODP) Total  (ODP) Selesai Pemantauan  (PDP) Total  \\\n",
       "0  2020-07-28        88234                     84584         2657   \n",
       "\n",
       "   (PDP) Sembuh  (PDP) Meninggal  (Positif) Dirawat  (Positif) Sembuh  \\\n",
       "0          2247              218                105               266   \n",
       "\n",
       "   (Positif) Meninggal  \n",
       "0                   11  "
      ]
     },
     "execution_count": 29,
     "metadata": {},
     "output_type": "execute_result"
    }
   ],
   "source": [
    "df = pd.read_csv('riau-dataset.csv')\n",
    "df.head()"
   ]
  },
  {
   "cell_type": "code",
   "execution_count": 10,
   "metadata": {},
   "outputs": [
    {
     "name": "stdout",
     "output_type": "stream",
     "text": [
      "Rekapitulasi Kasus COVID-19 di Provinsi Riau Per Tanggal: 2020-07-30\n",
      "Isolasi / Sedang Dirawat: 109\n",
      "Sembuh: 305\n",
      "Meninggal: 12\n",
      "Total: 426\n"
     ]
    }
   ],
   "source": [
    "print('Rekapitulasi Kasus COVID-19 di Provinsi Riau Per Tanggal:', date.today())\n",
    "angka = []\n",
    "for data in soup.find_all('table')[2].find_all('td'):\n",
    "    data = data.text\n",
    "    data = int(data)\n",
    "    angka.append(data)\n",
    "print(\"Isolasi / Sedang Dirawat:\", angka[0] + angka[1])\n",
    "print(\"Sembuh:\", angka[2])\n",
    "print(\"Meninggal:\", angka[3])\n",
    "print(\"Total:\", angka[0] + angka[1] + angka[2] + angka[3])"
   ]
  }
 ],
 "metadata": {
  "kernelspec": {
   "display_name": "Python 3",
   "language": "python",
   "name": "python3"
  },
  "language_info": {
   "codemirror_mode": {
    "name": "ipython",
    "version": 3
   },
   "file_extension": ".py",
   "mimetype": "text/x-python",
   "name": "python",
   "nbconvert_exporter": "python",
   "pygments_lexer": "ipython3",
   "version": "3.7.3"
  }
 },
 "nbformat": 4,
 "nbformat_minor": 2
}
